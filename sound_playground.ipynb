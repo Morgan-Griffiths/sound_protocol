{
 "cells": [
  {
   "cell_type": "code",
   "execution_count": 1,
   "metadata": {},
   "outputs": [],
   "source": [
    "from sound_protocol import define_symbols, encode_message, decode_message, generate_sound_samples, process_sound_samples,text_to_binary, binary_to_text,text_to_decimal,decimal_to_text,START_CODE,END_CODE,read_sound_file,SAMPLE_RATE"
   ]
  },
  {
   "cell_type": "code",
   "execution_count": 2,
   "metadata": {},
   "outputs": [
    {
     "name": "stdout",
     "output_type": "stream",
     "text": [
      "01101000\n"
     ]
    }
   ],
   "source": [
    "print(text_to_binary('h'))"
   ]
  },
  {
   "cell_type": "code",
   "execution_count": 3,
   "metadata": {},
   "outputs": [
    {
     "name": "stdout",
     "output_type": "stream",
     "text": [
      "104\n",
      "01101000\n"
     ]
    }
   ],
   "source": [
    "char = 'h'\n",
    "print(ord(char))\n",
    "print(format(ord(char), '08b'))"
   ]
  },
  {
   "cell_type": "code",
   "execution_count": 4,
   "metadata": {},
   "outputs": [
    {
     "name": "stdout",
     "output_type": "stream",
     "text": [
      "404 4\n",
      "ÿ\u000eÿì=·æ\f=¶\u000fÎ?îÿþ>þö\u000fÿþÎÿÆ\u000enþ?ÎþÆ\u000eo¶\n"
     ]
    }
   ],
   "source": [
    "message = '10001110111111111100111111001111111101111100011000001101101101100000111000111111111101100000111000111111111001100000110000111101101101100000111111001110001111111110111011111111111111100011111011111110111101100000111111111111111111101100111011111111110001100000111001111111011011101111111000111111110011101111111011000110000011100110111110110110000011011111111100001110111111111110110000111101101101111110'\n",
    "print(len(message),len(message) % 8)\n",
    "print(binary_to_text(message[:len(message) - len(message) % 8]))"
   ]
  },
  {
   "cell_type": "code",
   "execution_count": 5,
   "metadata": {},
   "outputs": [
    {
     "name": "stdout",
     "output_type": "stream",
     "text": [
      "104\n",
      "h\n"
     ]
    }
   ],
   "source": [
    "print(int('01101000',2))\n",
    "print(chr(104))"
   ]
  },
  {
   "cell_type": "code",
   "execution_count": 6,
   "metadata": {},
   "outputs": [
    {
     "data": {
      "text/plain": [
       "51"
      ]
     },
     "execution_count": 6,
     "metadata": {},
     "output_type": "execute_result"
    }
   ],
   "source": [
    "len(list(\"Hello, I am an AI language model created by OpenAI.\"))\n",
    "# without compression\n",
    "# binary encoding = 41 seconds\n",
    "# decimal encoding = 13 seconds"
   ]
  },
  {
   "cell_type": "code",
   "execution_count": 7,
   "metadata": {},
   "outputs": [
    {
     "name": "stdout",
     "output_type": "stream",
     "text": [
      "072101108108111044032073032097109032097110032065073032108097110103117097103101032109111100101108032099114101097116101100032098121032079112101110065073046\n",
      "101\n"
     ]
    }
   ],
   "source": [
    "print(text_to_decimal(\"Hello, I am an AI language model created by OpenAI.\"))\n",
    "print(format(ord('e'), '03d'))"
   ]
  },
  {
   "cell_type": "code",
   "execution_count": 28,
   "metadata": {},
   "outputs": [
    {
     "name": "stdout",
     "output_type": "stream",
     "text": [
      "0\n",
      "\u0001oo\u0000ŋcod\u0001d\u0000\u001eŋ\u0001oÇŋÇϑnŋoo±ŋ\u0000ϑnʚ\n"
     ]
    }
   ],
   "source": [
    "decimal_message = '998760011111110003310991111411000011000000303310011111993311999771103311111111771403310009771106667899'\n",
    "start = decimal_message.find(START_CODE)\n",
    "end = decimal_message.find(END_CODE)\n",
    "# print(len(decimal_message))\n",
    "# print(len(decimal_message[4:-5]))\n",
    "# print(decimal_message[:-5])\n",
    "print(len(decimal_message[start:end]) % 3)\n",
    "print(decimal_to_text(decimal_message[start+4:end+1]))"
   ]
  },
  {
   "cell_type": "code",
   "execution_count": 23,
   "metadata": {},
   "outputs": [
    {
     "name": "stdout",
     "output_type": "stream",
     "text": [
      "92\n"
     ]
    }
   ],
   "source": [
    "decimal_message[start+4]\n",
    "print(len('10311111110003210911111411010511010303303210411111903211909711502121111117114032100097121066'))"
   ]
  },
  {
   "cell_type": "code",
   "execution_count": 9,
   "metadata": {},
   "outputs": [
    {
     "name": "stdout",
     "output_type": "stream",
     "text": [
      "\t\n",
      "\u0007\u0006\u0007\u0002\u0000\u0001\u0001\u0004\u0004\u0004\u0003\u0007\u0007\u0003\u0003\t\t\u0007\u0000\u0000\t\u0003\t\t\u0007\u0001\u0000\u0000\u0003\u0006\u0006\u0005\u0007\u0003\u0003\t\u0007\u0001\u0000\u0000\u0000\u0000\u0003\u0001\u0007\u0007\t\u0007\u0000\u0000\u0003\u0000\u0000\u0003\u0003\u0002\u0000\t\t\u0001\u0001\u0001\u0000\u0000\u0000\u0000\u0000\u0003\t\t\t\u0001\u0004\u0004\u0000\u0000\t\t\u0007\u0001\u0006\u0006\u0000\u0000\u0001\u0000\u0000\u0000\u0003\t\u0001\u0002\u0003\u0003\u0007\u0007\t\u0001\u0001\u0002\u0000\u0000\u0001\u0001\u0000\u0000\u0006\u0007\u0007\u0003\u0004\u0006\u0006\t\n"
     ]
    }
   ],
   "source": [
    "print(chr(int('9')))\n",
    "print(''.join([chr(int(decimal_value)) for decimal_value in decimal_message]))"
   ]
  },
  {
   "cell_type": "code",
   "execution_count": 10,
   "metadata": {},
   "outputs": [
    {
     "data": {
      "text/plain": [
       "'\\x04'"
      ]
     },
     "execution_count": 10,
     "metadata": {},
     "output_type": "execute_result"
    }
   ],
   "source": [
    "chr(int('4'))"
   ]
  },
  {
   "cell_type": "code",
   "execution_count": 11,
   "metadata": {},
   "outputs": [],
   "source": [
    "out = read_sound_file('medium_length_message.wav')"
   ]
  },
  {
   "cell_type": "code",
   "execution_count": 13,
   "metadata": {},
   "outputs": [
    {
     "name": "stdout",
     "output_type": "stream",
     "text": [
      "10.2\n"
     ]
    }
   ],
   "source": [
    "print(len(out) / SAMPLE_RATE)"
   ]
  },
  {
   "cell_type": "code",
   "execution_count": 33,
   "metadata": {},
   "outputs": [
    {
     "name": "stderr",
     "output_type": "stream",
     "text": [
      "/var/folders/xh/7ckt8sj94n50cyzxklyndmhr0000gr/T/ipykernel_58943/2902604531.py:5: DeprecationWarning: elementwise comparison failed; this will raise an error in the future.\n",
      "  all(np.unique(H) == np.arange(10))\n"
     ]
    },
    {
     "ename": "TypeError",
     "evalue": "'bool' object is not iterable",
     "output_type": "error",
     "traceback": [
      "\u001b[0;31m---------------------------------------------------------------------------\u001b[0m",
      "\u001b[0;31mTypeError\u001b[0m                                 Traceback (most recent call last)",
      "\u001b[1;32m/Users/Shuza/Code/sound_protocol/sound_playground.ipynb Cell 14\u001b[0m in \u001b[0;36m5\n\u001b[1;32m      <a href='vscode-notebook-cell:/Users/Shuza/Code/sound_protocol/sound_playground.ipynb#X15sZmlsZQ%3D%3D?line=0'>1</a>\u001b[0m \u001b[39mimport\u001b[39;00m \u001b[39mnumpy\u001b[39;00m \u001b[39mas\u001b[39;00m \u001b[39mnp\u001b[39;00m\n\u001b[1;32m      <a href='vscode-notebook-cell:/Users/Shuza/Code/sound_protocol/sound_playground.ipynb#X15sZmlsZQ%3D%3D?line=1'>2</a>\u001b[0m H \u001b[39m=\u001b[39m np\u001b[39m.\u001b[39marray([[\u001b[39m5\u001b[39m, \u001b[39m1\u001b[39m, \u001b[39m3\u001b[39m, \u001b[39m0\u001b[39m, \u001b[39m1\u001b[39m, \u001b[39m2\u001b[39m],\n\u001b[1;32m      <a href='vscode-notebook-cell:/Users/Shuza/Code/sound_protocol/sound_playground.ipynb#X15sZmlsZQ%3D%3D?line=2'>3</a>\u001b[0m               [\u001b[39m4\u001b[39m, \u001b[39m0\u001b[39m, \u001b[39m8\u001b[39m, \u001b[39m6\u001b[39m, \u001b[39m0\u001b[39m, \u001b[39m0\u001b[39m],\n\u001b[1;32m      <a href='vscode-notebook-cell:/Users/Shuza/Code/sound_protocol/sound_playground.ipynb#X15sZmlsZQ%3D%3D?line=3'>4</a>\u001b[0m               [\u001b[39m0\u001b[39m, \u001b[39m0\u001b[39m, \u001b[39m0\u001b[39m, \u001b[39m9\u001b[39m, \u001b[39m4\u001b[39m, \u001b[39m5\u001b[39m]])\n\u001b[0;32m----> <a href='vscode-notebook-cell:/Users/Shuza/Code/sound_protocol/sound_playground.ipynb#X15sZmlsZQ%3D%3D?line=4'>5</a>\u001b[0m \u001b[39mall\u001b[39;49m(np\u001b[39m.\u001b[39;49munique(H) \u001b[39m==\u001b[39;49m np\u001b[39m.\u001b[39;49marange(\u001b[39m10\u001b[39;49m))\n",
      "\u001b[0;31mTypeError\u001b[0m: 'bool' object is not iterable"
     ]
    }
   ],
   "source": [
    "import numpy as np\n",
    "H = np.array([[5, 1, 3, 0, 1, 2],\n",
    "              [4, 0, 8, 6, 0, 0],\n",
    "              [0, 0, 0, 9, 4, 5]])"
   ]
  },
  {
   "cell_type": "code",
   "execution_count": 34,
   "metadata": {},
   "outputs": [
    {
     "name": "stdout",
     "output_type": "stream",
     "text": [
      "decimal_encoded_message 98760721011081081110440320730320971090320971100320650730321080971101031170971031010321091111001011080320991141010971161011000320981210320791121011100650730466789\n",
      "len(decimal_encoded_message) 161\n"
     ]
    }
   ],
   "source": [
    "\n",
    "from LDPC import encode_ldpc_base10,G\n",
    "\n",
    "\n",
    "message = \"Hello, I am an AI language model created by OpenAI.\"\n",
    "decimal_encoded_message = START_CODE + text_to_decimal(message) + END_CODE\n",
    "print('decimal_encoded_message',decimal_encoded_message)\n",
    "decimal_message = []\n",
    "print('len(decimal_encoded_message)',len(decimal_encoded_message))\n",
    "for i in range(0,len(decimal_encoded_message)-3,3):\n",
    "    word = np.array(list(decimal_encoded_message[i:i+3]),dtype=int)\n",
    "    decimal_message.append(encode_ldpc_base10(word,G))"
   ]
  },
  {
   "cell_type": "code",
   "execution_count": 37,
   "metadata": {},
   "outputs": [
    {
     "data": {
      "text/plain": [
       "array([9., 8., 7., 0., 9., 4., 6., 0., 7., 8., 0., 4., 2., 1., 0., 1., 3.,\n",
       "       1., 1., 1., 0., 9., 8., 5., 8., 1., 0., 3., 3., 7., 8., 1., 1., 1.,\n",
       "       3., 1., 1., 0., 4., 4., 5., 2., 4., 0., 3., 2., 0., 6., 2., 0., 7.,\n",
       "       0., 0., 0., 3., 0., 3., 0., 5., 0., 2., 0., 9., 6., 0., 8., 7., 1.,\n",
       "       0., 1., 8., 1., 9., 0., 3., 2., 5., 6., 2., 0., 9., 6., 0., 8., 7.,\n",
       "       1., 1., 9., 8., 5., 0., 0., 3., 4., 0., 2., 2., 0., 6., 2., 0., 6.,\n",
       "       5., 0., 7., 6., 5., 8., 3., 0., 3., 0., 5., 0., 2., 1., 0., 1., 3.,\n",
       "       1., 8., 0., 9., 8., 0., 4., 7., 1., 1., 9., 8., 5., 0., 1., 0., 7.,\n",
       "       3., 9., 3., 1., 1., 1., 8., 1., 7., 0., 9., 6., 5., 8., 7., 1., 0.,\n",
       "       1., 8., 1., 3., 1., 0., 3., 8., 7., 1., 0., 3., 6., 5., 8., 2., 1.,\n",
       "       0., 1., 3., 1., 9., 1., 1., 3., 8., 7., 1., 1., 0., 9., 8., 5., 0.,\n",
       "       1., 0., 7., 3., 9., 1., 1., 0., 9., 8., 5., 8., 0., 3., 0., 0., 0.,\n",
       "       2., 0., 9., 6., 0., 8., 9., 1., 1., 3., 8., 7., 4., 1., 0., 5., 3.,\n",
       "       3., 1., 0., 9., 4., 5., 2., 7., 1., 1., 9., 8., 5., 6., 1., 0., 9.,\n",
       "       3., 5., 1., 1., 0., 9., 8., 5., 0., 0., 3., 4., 0., 2., 2., 0., 9.,\n",
       "       6., 0., 8., 8., 1., 2., 9., 3., 5., 1., 0., 3., 6., 5., 8., 2., 0.,\n",
       "       7., 0., 0., 0., 9., 1., 1., 3., 8., 7., 2., 1., 0., 1., 3., 1., 1.,\n",
       "       1., 1., 7., 8., 9., 0., 0., 6., 8., 0., 4., 5., 0., 7., 6., 5., 8.,\n",
       "       3., 0., 4., 8., 5., 4., 6., 6., 7., 0., 8., 8.])"
      ]
     },
     "execution_count": 37,
     "metadata": {},
     "output_type": "execute_result"
    }
   ],
   "source": [
    "np.concatenate(decimal_message)"
   ]
  },
  {
   "cell_type": "code",
   "execution_count": null,
   "metadata": {},
   "outputs": [],
   "source": [
    "'987072101108108111044032073032097109032097110032065073032108097110103117097103101032109111100101108032099114101097116101100032098121032079112101110065073046789'\n",
    "'987799072511101050108658808658811789944022032795577315532795597979909452032795597979910985532795565284077315532795508658897979910985503658817588097979903658800550327955094521117899002566010551086588327955995777141881010550979799167899010551002566327955987771214188327955799199125881010551109855655840773155466600'"
   ]
  },
  {
   "cell_type": "code",
   "execution_count": 49,
   "metadata": {},
   "outputs": [],
   "source": [
    "import re\n",
    "recieved_msg = '1117891117890725111010501086581086581117890440220327950733150327950979791094520327950979791109850327950658840733150327951086580979791109851036581175830979791036581010500377951094521117891002561010501086580377950995771141811010500979791167891010501002560377950987731141803779507919911258310105011098506584073315046620999321999321'\n",
    "start_index = re.search(r'111...111',recieved_msg)\n",
    "end_index = re.search(r'999...999',recieved_msg)"
   ]
  },
  {
   "cell_type": "code",
   "execution_count": 50,
   "metadata": {},
   "outputs": [
    {
     "name": "stdout",
     "output_type": "stream",
     "text": [
      "<re.Match object; span=(0, 9), match='111789111'> <re.Match object; span=(316, 325), match='999321999'>\n",
      "found\n"
     ]
    }
   ],
   "source": [
    "print(start_index,end_index)\n",
    "if start_index:\n",
    "    print('found')\n",
    "else:\n",
    "    print('not found')"
   ]
  },
  {
   "cell_type": "code",
   "execution_count": 53,
   "metadata": {},
   "outputs": [
    {
     "name": "stdout",
     "output_type": "stream",
     "text": [
      "9\n",
      "(316, 325)\n"
     ]
    }
   ],
   "source": [
    "print(start_index.span()[1])\n",
    "print(end_index.span()[0])"
   ]
  },
  {
   "cell_type": "code",
   "execution_count": 79,
   "metadata": {},
   "outputs": [
    {
     "name": "stdout",
     "output_type": "stream",
     "text": [
      "H\n",
      "e\n",
      "l\n",
      "l\n",
      "o\n",
      ",\n",
      " \n",
      "I\n",
      " \n",
      "a\n",
      "m\n",
      " \n",
      "a\n",
      "n\n",
      " \n",
      "A\n",
      "I\n",
      " \n",
      "l\n",
      "a\n",
      "n\n",
      "g\n",
      "u\n",
      "a\n",
      "g\n",
      "e\n",
      " \n",
      "m\n",
      "o\n",
      "d\n",
      "e\n",
      "l\n",
      " \n",
      "c\n",
      "r\n",
      "e\n",
      "a\n",
      "t\n",
      "e\n",
      "d\n",
      " \n",
      "b\n",
      "y\n",
      " \n",
      "O\n",
      "p\n",
      "e\n",
      "n\n",
      "A\n",
      "I\n",
      ".\n"
     ]
    }
   ],
   "source": [
    "\n",
    "decimal = np.array([0,7,2,5,1,1,1,0,1,0,5,0,1,0,8,6,5,8,1,0,8,6,5,8,1,1,1,7,8,9,0,4,4,0,2,2,0\n",
    ",3,2,7,9,5,0,7,3,3,1,5,0,3,2,7,9,5,0,9,7,9,7,9,1,0,9,4,5,2,0,3,2,7,9,5,0,9\n",
    ",7,9,7,9,1,1,0,9,8,5,0,3,2,7,9,5,0,6,5,2,8,4,0,7,3,3,1,5,0,3,2,7,9,5,1,0,8\n",
    ",6,5,8,0,9,7,9,7,9,1,1,0,9,8,5,1,0,3,6,5,8,1,1,7,5,8,3,0,9,7,9,7,9,1,0,3,6\n",
    ",5,8,1,0,1,0,5,0,0,3,2,7,9,5,1,0,9,4,5,2,1,1,1,7,8,9,1,0,0,2,5,6,1,0,1,0,5\n",
    ",0,1,0,8,6,5,8,0,3,2,7,9,5,0,9,9,5,7,7,1,1,4,1,8,1,1,0,1,0,5,0,0,9,7,9,7,9\n",
    ",1,1,6,7,8,9,1,0,1,0,5,0,1,0,0,2,5,6,0,3,2,7,9,5,0,9,8,7,7,3,1,2,1,4,1,8,0\n",
    ",3,2,7,9,5,0,7,9,1,1,9,1,1,2,5,8,3,1,0,1,0,5,0,1,1,0,9,8,5,0,6,5,2,8,4,0,7\n",
    ",3,3,1,5,0,4,6,6,2,0])\n",
    "for i in range(0, len(decimal), 6):\n",
    "    # Convert numpy array of ints into a list of ints\n",
    "    word = decimal[i:i+3].tolist()\n",
    "    print(chr(int(\"\".join([str(x) for x in word]))))\n",
    "\n",
    "\n",
    "\n",
    "# ''.join([chr(int(decimal[i:i+3])) for i in range(0, len(decimal), 3)])"
   ]
  },
  {
   "cell_type": "code",
   "execution_count": null,
   "metadata": {},
   "outputs": [],
   "source": []
  }
 ],
 "metadata": {
  "kernelspec": {
   "display_name": "ml",
   "language": "python",
   "name": "python3"
  },
  "language_info": {
   "codemirror_mode": {
    "name": "ipython",
    "version": 3
   },
   "file_extension": ".py",
   "mimetype": "text/x-python",
   "name": "python",
   "nbconvert_exporter": "python",
   "pygments_lexer": "ipython3",
   "version": "3.10.8"
  },
  "orig_nbformat": 4
 },
 "nbformat": 4,
 "nbformat_minor": 2
}
